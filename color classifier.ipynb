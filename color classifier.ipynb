{
 "cells": [
  {
   "cell_type": "code",
   "execution_count": 1,
   "metadata": {},
   "outputs": [],
   "source": [
    "import numpy as np \n",
    "import pandas as pd \n",
    "import matplotlib.pyplot as plt\n",
    "import os\n",
    "from colorthief import ColorThief\n",
    "from PIL import Image\n",
    "import tensorflow as tf\n",
    "from tensorflow.keras.models import Sequential, Model\n",
    "from tensorflow.keras.layers import Conv2D, MaxPooling2D, Dropout, Flatten, Dense, Input, BatchNormalization, Lambda, AveragePooling2D, ZeroPadding2D, Reshape, Activation\n",
    "from tensorflow.keras.layers import Concatenate\n",
    "from tensorflow.keras.optimizers import SGD\n",
    "from tensorflow.keras.callbacks import ModelCheckpoint\n",
    "from tensorflow.keras.preprocessing.image import ImageDataGenerator, load_img"
   ]
  },
  {
   "cell_type": "markdown",
   "metadata": {},
   "source": [
    "#### GPU Checks for Tensorflow"
   ]
  },
  {
   "cell_type": "code",
   "execution_count": 2,
   "metadata": {},
   "outputs": [
    {
     "data": {
      "text/plain": [
       "True"
      ]
     },
     "execution_count": 2,
     "metadata": {},
     "output_type": "execute_result"
    }
   ],
   "source": [
    "tf.test.is_built_with_cuda()"
   ]
  },
  {
   "cell_type": "code",
   "execution_count": 3,
   "metadata": {},
   "outputs": [
    {
     "name": "stdout",
     "output_type": "stream",
     "text": [
      "WARNING:tensorflow:From <ipython-input-3-78f884b5c1a9>:1: is_gpu_available (from tensorflow.python.framework.test_util) is deprecated and will be removed in a future version.\n",
      "Instructions for updating:\n",
      "Use `tf.config.list_physical_devices('GPU')` instead.\n"
     ]
    },
    {
     "data": {
      "text/plain": [
       "True"
      ]
     },
     "execution_count": 3,
     "metadata": {},
     "output_type": "execute_result"
    }
   ],
   "source": [
    "tf.test.is_gpu_available(cuda_only=False, min_cuda_compute_capability=None)"
   ]
  },
  {
   "cell_type": "code",
   "execution_count": 4,
   "metadata": {},
   "outputs": [
    {
     "data": {
      "text/plain": [
       "[PhysicalDevice(name='/physical_device:GPU:0', device_type='GPU')]"
      ]
     },
     "execution_count": 4,
     "metadata": {},
     "output_type": "execute_result"
    }
   ],
   "source": [
    "tf.config.list_physical_devices('GPU')"
   ]
  },
  {
   "cell_type": "code",
   "execution_count": 5,
   "metadata": {
    "scrolled": true
   },
   "outputs": [
    {
     "name": "stdout",
     "output_type": "stream",
     "text": [
      "Num GPUs Available:  1\n"
     ]
    }
   ],
   "source": [
    "print(\"Num GPUs Available: \", len(tf.config.experimental.list_physical_devices('GPU')))"
   ]
  },
  {
   "cell_type": "markdown",
   "metadata": {},
   "source": [
    "### EDA"
   ]
  },
  {
   "cell_type": "markdown",
   "metadata": {},
   "source": [
    "#### Train Data"
   ]
  },
  {
   "cell_type": "code",
   "execution_count": 6,
   "metadata": {},
   "outputs": [
    {
     "name": "stdout",
     "output_type": "stream",
     "text": [
      "There are 196 folders in the training dataset\n"
     ]
    }
   ],
   "source": [
    "# Folder containing all the training data.\n",
    "car_train = \"Data/car_data/car_data/train/\"\n",
    "print('There are', len(os.listdir(car_train)),'folders in the training dataset')"
   ]
  },
  {
   "cell_type": "code",
   "execution_count": 7,
   "metadata": {},
   "outputs": [],
   "source": [
    "mylist = []\n",
    "for labels in os.listdir(car_train):\n",
    "    for label in os.listdir(car_train+labels): \n",
    "        car_add = car_train + labels + '/' + label\n",
    "        car_value = (labels, car_add)                \n",
    "        if car_value not in mylist:\n",
    "            mylist.append(car_value)\n",
    "            \n",
    "train_df = pd.DataFrame(np.array(mylist), columns= [\"car\", \"image path\"])"
   ]
  },
  {
   "cell_type": "code",
   "execution_count": 9,
   "metadata": {},
   "outputs": [
    {
     "data": {
      "text/html": [
       "<div>\n",
       "<style scoped>\n",
       "    .dataframe tbody tr th:only-of-type {\n",
       "        vertical-align: middle;\n",
       "    }\n",
       "\n",
       "    .dataframe tbody tr th {\n",
       "        vertical-align: top;\n",
       "    }\n",
       "\n",
       "    .dataframe thead th {\n",
       "        text-align: right;\n",
       "    }\n",
       "</style>\n",
       "<table border=\"1\" class=\"dataframe\">\n",
       "  <thead>\n",
       "    <tr style=\"text-align: right;\">\n",
       "      <th></th>\n",
       "      <th>car</th>\n",
       "      <th>image path</th>\n",
       "    </tr>\n",
       "  </thead>\n",
       "  <tbody>\n",
       "    <tr>\n",
       "      <th>7477</th>\n",
       "      <td>Spyker C8 Coupe 2009</td>\n",
       "      <td>Data/car_data/car_data/train/Spyker C8 Coupe 2...</td>\n",
       "    </tr>\n",
       "    <tr>\n",
       "      <th>614</th>\n",
       "      <td>Audi RS 4 Convertible 2008</td>\n",
       "      <td>Data/car_data/car_data/train/Audi RS 4 Convert...</td>\n",
       "    </tr>\n",
       "    <tr>\n",
       "      <th>8065</th>\n",
       "      <td>Volvo C30 Hatchback 2012</td>\n",
       "      <td>Data/car_data/car_data/train/Volvo C30 Hatchba...</td>\n",
       "    </tr>\n",
       "    <tr>\n",
       "      <th>4614</th>\n",
       "      <td>Ford Fiesta Sedan 2012</td>\n",
       "      <td>Data/car_data/car_data/train/Ford Fiesta Sedan...</td>\n",
       "    </tr>\n",
       "    <tr>\n",
       "      <th>5765</th>\n",
       "      <td>Hyundai Veloster Hatchback 2012</td>\n",
       "      <td>Data/car_data/car_data/train/Hyundai Veloster ...</td>\n",
       "    </tr>\n",
       "    <tr>\n",
       "      <th>2947</th>\n",
       "      <td>Chevrolet Sonic Sedan 2012</td>\n",
       "      <td>Data/car_data/car_data/train/Chevrolet Sonic S...</td>\n",
       "    </tr>\n",
       "    <tr>\n",
       "      <th>2137</th>\n",
       "      <td>Cadillac SRX SUV 2012</td>\n",
       "      <td>Data/car_data/car_data/train/Cadillac SRX SUV ...</td>\n",
       "    </tr>\n",
       "    <tr>\n",
       "      <th>6615</th>\n",
       "      <td>Mercedes-Benz 300-Class Convertible 1993</td>\n",
       "      <td>Data/car_data/car_data/train/Mercedes-Benz 300...</td>\n",
       "    </tr>\n",
       "    <tr>\n",
       "      <th>1296</th>\n",
       "      <td>BMW 1 Series Convertible 2012</td>\n",
       "      <td>Data/car_data/car_data/train/BMW 1 Series Conv...</td>\n",
       "    </tr>\n",
       "    <tr>\n",
       "      <th>6908</th>\n",
       "      <td>Mitsubishi Lancer Sedan 2012</td>\n",
       "      <td>Data/car_data/car_data/train/Mitsubishi Lancer...</td>\n",
       "    </tr>\n",
       "  </tbody>\n",
       "</table>\n",
       "</div>"
      ],
      "text/plain": [
       "                                           car  \\\n",
       "7477                      Spyker C8 Coupe 2009   \n",
       "614                 Audi RS 4 Convertible 2008   \n",
       "8065                  Volvo C30 Hatchback 2012   \n",
       "4614                    Ford Fiesta Sedan 2012   \n",
       "5765           Hyundai Veloster Hatchback 2012   \n",
       "2947                Chevrolet Sonic Sedan 2012   \n",
       "2137                     Cadillac SRX SUV 2012   \n",
       "6615  Mercedes-Benz 300-Class Convertible 1993   \n",
       "1296             BMW 1 Series Convertible 2012   \n",
       "6908              Mitsubishi Lancer Sedan 2012   \n",
       "\n",
       "                                             image path  \n",
       "7477  Data/car_data/car_data/train/Spyker C8 Coupe 2...  \n",
       "614   Data/car_data/car_data/train/Audi RS 4 Convert...  \n",
       "8065  Data/car_data/car_data/train/Volvo C30 Hatchba...  \n",
       "4614  Data/car_data/car_data/train/Ford Fiesta Sedan...  \n",
       "5765  Data/car_data/car_data/train/Hyundai Veloster ...  \n",
       "2947  Data/car_data/car_data/train/Chevrolet Sonic S...  \n",
       "2137  Data/car_data/car_data/train/Cadillac SRX SUV ...  \n",
       "6615  Data/car_data/car_data/train/Mercedes-Benz 300...  \n",
       "1296  Data/car_data/car_data/train/BMW 1 Series Conv...  \n",
       "6908  Data/car_data/car_data/train/Mitsubishi Lancer...  "
      ]
     },
     "execution_count": 9,
     "metadata": {},
     "output_type": "execute_result"
    }
   ],
   "source": [
    "# Create train_df\n",
    "train_df.sample(10)"
   ]
  },
  {
   "cell_type": "markdown",
   "metadata": {},
   "source": [
    "#### Test Data"
   ]
  },
  {
   "cell_type": "code",
   "execution_count": 10,
   "metadata": {},
   "outputs": [
    {
     "name": "stdout",
     "output_type": "stream",
     "text": [
      "There are 196 folders in the test dataset\n"
     ]
    }
   ],
   "source": [
    "# Folder containng all the files for the test set. \n",
    "car_test= \"Data/car_data/car_data/test/\"\n",
    "print('There are', len(os.listdir(car_test)),'folders in the test dataset')"
   ]
  },
  {
   "cell_type": "code",
   "execution_count": 11,
   "metadata": {},
   "outputs": [],
   "source": [
    "# Create test_df\n",
    "mylist2 = []\n",
    "for labels in os.listdir(car_test):\n",
    "    for label in os.listdir(car_test+labels): \n",
    "        car_add = car_test + labels + '/' + label\n",
    "        car_value = (labels, car_add)                \n",
    "        if car_value not in mylist:\n",
    "            mylist2.append(car_value)   \n",
    "\n",
    "test_df = pd.DataFrame(np.array(mylist2), columns= [\"car\", \"image path\"])"
   ]
  },
  {
   "cell_type": "code",
   "execution_count": 13,
   "metadata": {
    "scrolled": false
   },
   "outputs": [
    {
     "data": {
      "text/html": [
       "<div>\n",
       "<style scoped>\n",
       "    .dataframe tbody tr th:only-of-type {\n",
       "        vertical-align: middle;\n",
       "    }\n",
       "\n",
       "    .dataframe tbody tr th {\n",
       "        vertical-align: top;\n",
       "    }\n",
       "\n",
       "    .dataframe thead th {\n",
       "        text-align: right;\n",
       "    }\n",
       "</style>\n",
       "<table border=\"1\" class=\"dataframe\">\n",
       "  <thead>\n",
       "    <tr style=\"text-align: right;\">\n",
       "      <th></th>\n",
       "      <th>car</th>\n",
       "      <th>image path</th>\n",
       "    </tr>\n",
       "  </thead>\n",
       "  <tbody>\n",
       "    <tr>\n",
       "      <th>6155</th>\n",
       "      <td>Lamborghini Diablo Coupe 2001</td>\n",
       "      <td>Data/car_data/car_data/test/Lamborghini Diablo...</td>\n",
       "    </tr>\n",
       "    <tr>\n",
       "      <th>2241</th>\n",
       "      <td>Chevrolet Cobalt SS 2010</td>\n",
       "      <td>Data/car_data/car_data/test/Chevrolet Cobalt S...</td>\n",
       "    </tr>\n",
       "    <tr>\n",
       "      <th>6728</th>\n",
       "      <td>Mercedes-Benz Sprinter Van 2012</td>\n",
       "      <td>Data/car_data/car_data/test/Mercedes-Benz Spri...</td>\n",
       "    </tr>\n",
       "    <tr>\n",
       "      <th>5445</th>\n",
       "      <td>Hyundai Elantra Touring Hatchback 2012</td>\n",
       "      <td>Data/car_data/car_data/test/Hyundai Elantra To...</td>\n",
       "    </tr>\n",
       "    <tr>\n",
       "      <th>3265</th>\n",
       "      <td>Chrysler Town and Country Minivan 2012</td>\n",
       "      <td>Data/car_data/car_data/test/Chrysler Town and ...</td>\n",
       "    </tr>\n",
       "    <tr>\n",
       "      <th>1743</th>\n",
       "      <td>BMW Z4 Convertible 2012</td>\n",
       "      <td>Data/car_data/car_data/test/BMW Z4 Convertible...</td>\n",
       "    </tr>\n",
       "    <tr>\n",
       "      <th>525</th>\n",
       "      <td>Audi A5 Coupe 2012</td>\n",
       "      <td>Data/car_data/car_data/test/Audi A5 Coupe 2012...</td>\n",
       "    </tr>\n",
       "    <tr>\n",
       "      <th>3048</th>\n",
       "      <td>Chrysler 300 SRT-8 2010</td>\n",
       "      <td>Data/car_data/car_data/test/Chrysler 300 SRT-8...</td>\n",
       "    </tr>\n",
       "    <tr>\n",
       "      <th>3662</th>\n",
       "      <td>Dodge Durango SUV 2007</td>\n",
       "      <td>Data/car_data/car_data/test/Dodge Durango SUV ...</td>\n",
       "    </tr>\n",
       "    <tr>\n",
       "      <th>1369</th>\n",
       "      <td>BMW 3 Series Sedan 2012</td>\n",
       "      <td>Data/car_data/car_data/test/BMW 3 Series Sedan...</td>\n",
       "    </tr>\n",
       "  </tbody>\n",
       "</table>\n",
       "</div>"
      ],
      "text/plain": [
       "                                         car  \\\n",
       "6155           Lamborghini Diablo Coupe 2001   \n",
       "2241                Chevrolet Cobalt SS 2010   \n",
       "6728         Mercedes-Benz Sprinter Van 2012   \n",
       "5445  Hyundai Elantra Touring Hatchback 2012   \n",
       "3265  Chrysler Town and Country Minivan 2012   \n",
       "1743                 BMW Z4 Convertible 2012   \n",
       "525                       Audi A5 Coupe 2012   \n",
       "3048                 Chrysler 300 SRT-8 2010   \n",
       "3662                  Dodge Durango SUV 2007   \n",
       "1369                 BMW 3 Series Sedan 2012   \n",
       "\n",
       "                                             image path  \n",
       "6155  Data/car_data/car_data/test/Lamborghini Diablo...  \n",
       "2241  Data/car_data/car_data/test/Chevrolet Cobalt S...  \n",
       "6728  Data/car_data/car_data/test/Mercedes-Benz Spri...  \n",
       "5445  Data/car_data/car_data/test/Hyundai Elantra To...  \n",
       "3265  Data/car_data/car_data/test/Chrysler Town and ...  \n",
       "1743  Data/car_data/car_data/test/BMW Z4 Convertible...  \n",
       "525   Data/car_data/car_data/test/Audi A5 Coupe 2012...  \n",
       "3048  Data/car_data/car_data/test/Chrysler 300 SRT-8...  \n",
       "3662  Data/car_data/car_data/test/Dodge Durango SUV ...  \n",
       "1369  Data/car_data/car_data/test/BMW 3 Series Sedan...  "
      ]
     },
     "execution_count": 13,
     "metadata": {},
     "output_type": "execute_result"
    }
   ],
   "source": [
    "test_df.sample(10)"
   ]
  },
  {
   "cell_type": "markdown",
   "metadata": {},
   "source": [
    "### Creating Color Classifications"
   ]
  },
  {
   "cell_type": "markdown",
   "metadata": {},
   "source": [
    "#### Function to obtain most dominant color in image and return rgb"
   ]
  },
  {
   "cell_type": "code",
   "execution_count": 15,
   "metadata": {},
   "outputs": [],
   "source": [
    "# Load in colors.csv and create df with index as color\n",
    "clr_headers = ['color', 'full_name', 'hex', 'r', 'g', 'b'] # list for header\n",
    "colors = pd.read_csv('colors.csv', names=clr_headers, index_col = 'color') # Load in csv\n",
    "colors['rgb'] = list(zip(colors['r'], colors['g'], colors['b'])) # combine r/g/b as rgb tuple\n",
    "colors_df = colors.drop(columns=['full_name', 'hex', 'r', 'g', 'b']) # drop old columns and save to new df\n",
    "colors_dict = dict(zip(colors_df.index, colors_df['rgb'])) # create dictionary with color(key):rgb(value)\n",
    "\n",
    "def classify_color(filepath):\n",
    "    # Color thief will find the most dominant rgb color in an image\n",
    "    color_thief = ColorThief(filepath)\n",
    "    dominant_color = color_thief.get_color(quality=1)\n",
    "\n",
    "    # Manhattan distance between \"classification points\"\n",
    "    manhattan = lambda x,y : abs(x[0] - y[0]) + abs(x[1] - y[1]) + abs(x[2] - y[2]) \n",
    "    \n",
    "    # Find the best color in dictionary and find Manhattan distance\n",
    "    distances = {k: manhattan(v, dominant_color) for k, v in colors_dict.items()}\n",
    "    \n",
    "    # Minimum distance to color point\n",
    "    color = min(distances, key=distances.get) \n",
    "    return color"
   ]
  },
  {
   "cell_type": "markdown",
   "metadata": {},
   "source": [
    "#### Train Categorization"
   ]
  },
  {
   "cell_type": "code",
   "execution_count": 16,
   "metadata": {},
   "outputs": [],
   "source": [
    "# Will not re-run. Takes 2.5 hours.\n",
    "# train_df['color'] = train_df['image path'].apply(classify_color)"
   ]
  },
  {
   "cell_type": "code",
   "execution_count": 29,
   "metadata": {},
   "outputs": [],
   "source": [
    "# # Save to csv\n",
    "# train_df.to_csv('train_df_color')"
   ]
  },
  {
   "cell_type": "code",
   "execution_count": 49,
   "metadata": {
    "scrolled": false
   },
   "outputs": [],
   "source": [
    "# Load in categorized data\n",
    "train_df = pd.read_csv('train_df_color.csv')\n",
    "train_df = train_df[['car', 'image path', 'color', 'car label']]"
   ]
  },
  {
   "cell_type": "code",
   "execution_count": 50,
   "metadata": {},
   "outputs": [],
   "source": [
    "# Create column for car label based on color\n",
    "train_df['car_label'] = train_df.color.astype(\"category\").cat.codes\n",
    "train_df['car_label'] = train_df['car_label'].astype(\"str\")"
   ]
  },
  {
   "cell_type": "code",
   "execution_count": 51,
   "metadata": {
    "scrolled": true
   },
   "outputs": [
    {
     "data": {
      "text/html": [
       "<div>\n",
       "<style scoped>\n",
       "    .dataframe tbody tr th:only-of-type {\n",
       "        vertical-align: middle;\n",
       "    }\n",
       "\n",
       "    .dataframe tbody tr th {\n",
       "        vertical-align: top;\n",
       "    }\n",
       "\n",
       "    .dataframe thead th {\n",
       "        text-align: right;\n",
       "    }\n",
       "</style>\n",
       "<table border=\"1\" class=\"dataframe\">\n",
       "  <thead>\n",
       "    <tr style=\"text-align: right;\">\n",
       "      <th></th>\n",
       "      <th>car</th>\n",
       "      <th>image path</th>\n",
       "      <th>color</th>\n",
       "      <th>car label</th>\n",
       "      <th>car_label</th>\n",
       "    </tr>\n",
       "    <tr>\n",
       "      <th>car_label</th>\n",
       "      <th></th>\n",
       "      <th></th>\n",
       "      <th></th>\n",
       "      <th></th>\n",
       "      <th></th>\n",
       "    </tr>\n",
       "  </thead>\n",
       "  <tbody>\n",
       "    <tr>\n",
       "      <th>104</th>\n",
       "      <td>608</td>\n",
       "      <td>608</td>\n",
       "      <td>608</td>\n",
       "      <td>608</td>\n",
       "      <td>608</td>\n",
       "    </tr>\n",
       "    <tr>\n",
       "      <th>75</th>\n",
       "      <td>433</td>\n",
       "      <td>433</td>\n",
       "      <td>433</td>\n",
       "      <td>433</td>\n",
       "      <td>433</td>\n",
       "    </tr>\n",
       "    <tr>\n",
       "      <th>20</th>\n",
       "      <td>426</td>\n",
       "      <td>426</td>\n",
       "      <td>426</td>\n",
       "      <td>426</td>\n",
       "      <td>426</td>\n",
       "    </tr>\n",
       "    <tr>\n",
       "      <th>19</th>\n",
       "      <td>347</td>\n",
       "      <td>347</td>\n",
       "      <td>347</td>\n",
       "      <td>347</td>\n",
       "      <td>347</td>\n",
       "    </tr>\n",
       "    <tr>\n",
       "      <th>58</th>\n",
       "      <td>343</td>\n",
       "      <td>343</td>\n",
       "      <td>343</td>\n",
       "      <td>343</td>\n",
       "      <td>343</td>\n",
       "    </tr>\n",
       "    <tr>\n",
       "      <th>8</th>\n",
       "      <td>339</td>\n",
       "      <td>339</td>\n",
       "      <td>339</td>\n",
       "      <td>339</td>\n",
       "      <td>339</td>\n",
       "    </tr>\n",
       "    <tr>\n",
       "      <th>133</th>\n",
       "      <td>330</td>\n",
       "      <td>330</td>\n",
       "      <td>330</td>\n",
       "      <td>330</td>\n",
       "      <td>330</td>\n",
       "    </tr>\n",
       "    <tr>\n",
       "      <th>134</th>\n",
       "      <td>314</td>\n",
       "      <td>314</td>\n",
       "      <td>314</td>\n",
       "      <td>314</td>\n",
       "      <td>314</td>\n",
       "    </tr>\n",
       "    <tr>\n",
       "      <th>183</th>\n",
       "      <td>284</td>\n",
       "      <td>284</td>\n",
       "      <td>284</td>\n",
       "      <td>284</td>\n",
       "      <td>284</td>\n",
       "    </tr>\n",
       "    <tr>\n",
       "      <th>9</th>\n",
       "      <td>212</td>\n",
       "      <td>212</td>\n",
       "      <td>212</td>\n",
       "      <td>212</td>\n",
       "      <td>212</td>\n",
       "    </tr>\n",
       "  </tbody>\n",
       "</table>\n",
       "</div>"
      ],
      "text/plain": [
       "           car  image path  color  car label  car_label\n",
       "car_label                                              \n",
       "104        608         608    608        608        608\n",
       "75         433         433    433        433        433\n",
       "20         426         426    426        426        426\n",
       "19         347         347    347        347        347\n",
       "58         343         343    343        343        343\n",
       "8          339         339    339        339        339\n",
       "133        330         330    330        330        330\n",
       "134        314         314    314        314        314\n",
       "183        284         284    284        284        284\n",
       "9          212         212    212        212        212"
      ]
     },
     "execution_count": 51,
     "metadata": {},
     "output_type": "execute_result"
    }
   ],
   "source": [
    "# Most frequent colors\n",
    "train_df.groupby(train_df['car_label']).count().sort_values(by='color', ascending=False).head(10)"
   ]
  },
  {
   "cell_type": "code",
   "execution_count": 52,
   "metadata": {
    "scrolled": false
   },
   "outputs": [
    {
     "data": {
      "text/html": [
       "<div>\n",
       "<style scoped>\n",
       "    .dataframe tbody tr th:only-of-type {\n",
       "        vertical-align: middle;\n",
       "    }\n",
       "\n",
       "    .dataframe tbody tr th {\n",
       "        vertical-align: top;\n",
       "    }\n",
       "\n",
       "    .dataframe thead th {\n",
       "        text-align: right;\n",
       "    }\n",
       "</style>\n",
       "<table border=\"1\" class=\"dataframe\">\n",
       "  <thead>\n",
       "    <tr style=\"text-align: right;\">\n",
       "      <th></th>\n",
       "      <th>image path</th>\n",
       "      <th>car_label</th>\n",
       "    </tr>\n",
       "  </thead>\n",
       "  <tbody>\n",
       "    <tr>\n",
       "      <th>3787</th>\n",
       "      <td>Data/car_data/car_data/train/Dodge Durango SUV...</td>\n",
       "      <td>75</td>\n",
       "    </tr>\n",
       "    <tr>\n",
       "      <th>5514</th>\n",
       "      <td>Data/car_data/car_data/train/Hyundai Elantra T...</td>\n",
       "      <td>188</td>\n",
       "    </tr>\n",
       "    <tr>\n",
       "      <th>7156</th>\n",
       "      <td>Data/car_data/car_data/train/Porsche Panamera ...</td>\n",
       "      <td>183</td>\n",
       "    </tr>\n",
       "    <tr>\n",
       "      <th>4777</th>\n",
       "      <td>Data/car_data/car_data/train/Ford Mustang Conv...</td>\n",
       "      <td>154</td>\n",
       "    </tr>\n",
       "    <tr>\n",
       "      <th>4125</th>\n",
       "      <td>Data/car_data/car_data/train/Ferrari 458 Itali...</td>\n",
       "      <td>14</td>\n",
       "    </tr>\n",
       "  </tbody>\n",
       "</table>\n",
       "</div>"
      ],
      "text/plain": [
       "                                             image path car_label\n",
       "3787  Data/car_data/car_data/train/Dodge Durango SUV...        75\n",
       "5514  Data/car_data/car_data/train/Hyundai Elantra T...       188\n",
       "7156  Data/car_data/car_data/train/Porsche Panamera ...       183\n",
       "4777  Data/car_data/car_data/train/Ford Mustang Conv...       154\n",
       "4125  Data/car_data/car_data/train/Ferrari 458 Itali...        14"
      ]
     },
     "execution_count": 52,
     "metadata": {},
     "output_type": "execute_result"
    }
   ],
   "source": [
    "train_img_df = train_df[['image path', 'car_label']].copy()\n",
    "train_img_df.sample(5)"
   ]
  },
  {
   "cell_type": "code",
   "execution_count": 53,
   "metadata": {
    "scrolled": false
   },
   "outputs": [
    {
     "data": {
      "text/plain": [
       "(8144, 2)"
      ]
     },
     "execution_count": 53,
     "metadata": {},
     "output_type": "execute_result"
    }
   ],
   "source": [
    "train_img_df.shape"
   ]
  },
  {
   "cell_type": "markdown",
   "metadata": {},
   "source": [
    "#### Test Categorization\n",
    "\n",
    "Repeat of steps above for test dataset."
   ]
  },
  {
   "cell_type": "code",
   "execution_count": 54,
   "metadata": {
    "scrolled": false
   },
   "outputs": [],
   "source": [
    "# # Will not re-run. Takes 2.5 hours.\n",
    "# test_df['color'] = test_df['image path'].apply(classify_color)"
   ]
  },
  {
   "cell_type": "code",
   "execution_count": 55,
   "metadata": {
    "scrolled": false
   },
   "outputs": [],
   "source": [
    "# # Save to csv\n",
    "# test_df.to_csv('Data/test_df_color')"
   ]
  },
  {
   "cell_type": "code",
   "execution_count": 56,
   "metadata": {},
   "outputs": [],
   "source": [
    "test_df = pd.read_csv(\"test_df_color.csv\")"
   ]
  },
  {
   "cell_type": "code",
   "execution_count": 57,
   "metadata": {},
   "outputs": [],
   "source": [
    "test_df['car_label'] = test_df.color.astype(\"category\").cat.codes\n",
    "test_df['car_label'] = test_df['car_label'].astype(\"str\")"
   ]
  },
  {
   "cell_type": "code",
   "execution_count": 58,
   "metadata": {},
   "outputs": [
    {
     "data": {
      "text/html": [
       "<div>\n",
       "<style scoped>\n",
       "    .dataframe tbody tr th:only-of-type {\n",
       "        vertical-align: middle;\n",
       "    }\n",
       "\n",
       "    .dataframe tbody tr th {\n",
       "        vertical-align: top;\n",
       "    }\n",
       "\n",
       "    .dataframe thead th {\n",
       "        text-align: right;\n",
       "    }\n",
       "</style>\n",
       "<table border=\"1\" class=\"dataframe\">\n",
       "  <thead>\n",
       "    <tr style=\"text-align: right;\">\n",
       "      <th></th>\n",
       "      <th>Unnamed: 0</th>\n",
       "      <th>car</th>\n",
       "      <th>image path</th>\n",
       "      <th>color</th>\n",
       "      <th>car_label</th>\n",
       "    </tr>\n",
       "  </thead>\n",
       "  <tbody>\n",
       "    <tr>\n",
       "      <th>0</th>\n",
       "      <td>0</td>\n",
       "      <td>Acura Integra Type R 2001</td>\n",
       "      <td>Data/car_data/car_data/test/Acura Integra Type...</td>\n",
       "      <td>grullo</td>\n",
       "      <td>106</td>\n",
       "    </tr>\n",
       "    <tr>\n",
       "      <th>1</th>\n",
       "      <td>1</td>\n",
       "      <td>Acura Integra Type R 2001</td>\n",
       "      <td>Data/car_data/car_data/test/Acura Integra Type...</td>\n",
       "      <td>jet</td>\n",
       "      <td>111</td>\n",
       "    </tr>\n",
       "    <tr>\n",
       "      <th>2</th>\n",
       "      <td>2</td>\n",
       "      <td>Acura Integra Type R 2001</td>\n",
       "      <td>Data/car_data/car_data/test/Acura Integra Type...</td>\n",
       "      <td>light_gray</td>\n",
       "      <td>121</td>\n",
       "    </tr>\n",
       "    <tr>\n",
       "      <th>3</th>\n",
       "      <td>3</td>\n",
       "      <td>Acura Integra Type R 2001</td>\n",
       "      <td>Data/car_data/car_data/test/Acura Integra Type...</td>\n",
       "      <td>lavender_gray</td>\n",
       "      <td>117</td>\n",
       "    </tr>\n",
       "    <tr>\n",
       "      <th>4</th>\n",
       "      <td>4</td>\n",
       "      <td>Acura Integra Type R 2001</td>\n",
       "      <td>Data/car_data/car_data/test/Acura Integra Type...</td>\n",
       "      <td>arsenic</td>\n",
       "      <td>6</td>\n",
       "    </tr>\n",
       "  </tbody>\n",
       "</table>\n",
       "</div>"
      ],
      "text/plain": [
       "   Unnamed: 0                        car  \\\n",
       "0           0  Acura Integra Type R 2001   \n",
       "1           1  Acura Integra Type R 2001   \n",
       "2           2  Acura Integra Type R 2001   \n",
       "3           3  Acura Integra Type R 2001   \n",
       "4           4  Acura Integra Type R 2001   \n",
       "\n",
       "                                          image path          color car_label  \n",
       "0  Data/car_data/car_data/test/Acura Integra Type...         grullo       106  \n",
       "1  Data/car_data/car_data/test/Acura Integra Type...            jet       111  \n",
       "2  Data/car_data/car_data/test/Acura Integra Type...     light_gray       121  \n",
       "3  Data/car_data/car_data/test/Acura Integra Type...  lavender_gray       117  \n",
       "4  Data/car_data/car_data/test/Acura Integra Type...        arsenic         6  "
      ]
     },
     "execution_count": 58,
     "metadata": {},
     "output_type": "execute_result"
    }
   ],
   "source": [
    "test_df.head()"
   ]
  },
  {
   "cell_type": "code",
   "execution_count": 59,
   "metadata": {},
   "outputs": [
    {
     "data": {
      "text/html": [
       "<div>\n",
       "<style scoped>\n",
       "    .dataframe tbody tr th:only-of-type {\n",
       "        vertical-align: middle;\n",
       "    }\n",
       "\n",
       "    .dataframe tbody tr th {\n",
       "        vertical-align: top;\n",
       "    }\n",
       "\n",
       "    .dataframe thead th {\n",
       "        text-align: right;\n",
       "    }\n",
       "</style>\n",
       "<table border=\"1\" class=\"dataframe\">\n",
       "  <thead>\n",
       "    <tr style=\"text-align: right;\">\n",
       "      <th></th>\n",
       "      <th>Unnamed: 0</th>\n",
       "      <th>car</th>\n",
       "      <th>image path</th>\n",
       "      <th>color</th>\n",
       "      <th>car_label</th>\n",
       "    </tr>\n",
       "    <tr>\n",
       "      <th>car_label</th>\n",
       "      <th></th>\n",
       "      <th></th>\n",
       "      <th></th>\n",
       "      <th></th>\n",
       "      <th></th>\n",
       "    </tr>\n",
       "  </thead>\n",
       "  <tbody>\n",
       "    <tr>\n",
       "      <th>111</th>\n",
       "      <td>591</td>\n",
       "      <td>591</td>\n",
       "      <td>591</td>\n",
       "      <td>591</td>\n",
       "      <td>591</td>\n",
       "    </tr>\n",
       "    <tr>\n",
       "      <th>82</th>\n",
       "      <td>465</td>\n",
       "      <td>465</td>\n",
       "      <td>465</td>\n",
       "      <td>465</td>\n",
       "      <td>465</td>\n",
       "    </tr>\n",
       "    <tr>\n",
       "      <th>21</th>\n",
       "      <td>438</td>\n",
       "      <td>438</td>\n",
       "      <td>438</td>\n",
       "      <td>438</td>\n",
       "      <td>438</td>\n",
       "    </tr>\n",
       "    <tr>\n",
       "      <th>20</th>\n",
       "      <td>376</td>\n",
       "      <td>376</td>\n",
       "      <td>376</td>\n",
       "      <td>376</td>\n",
       "      <td>376</td>\n",
       "    </tr>\n",
       "    <tr>\n",
       "      <th>66</th>\n",
       "      <td>349</td>\n",
       "      <td>349</td>\n",
       "      <td>349</td>\n",
       "      <td>349</td>\n",
       "      <td>349</td>\n",
       "    </tr>\n",
       "    <tr>\n",
       "      <th>6</th>\n",
       "      <td>332</td>\n",
       "      <td>332</td>\n",
       "      <td>332</td>\n",
       "      <td>332</td>\n",
       "      <td>332</td>\n",
       "    </tr>\n",
       "    <tr>\n",
       "      <th>143</th>\n",
       "      <td>312</td>\n",
       "      <td>312</td>\n",
       "      <td>312</td>\n",
       "      <td>312</td>\n",
       "      <td>312</td>\n",
       "    </tr>\n",
       "    <tr>\n",
       "      <th>145</th>\n",
       "      <td>299</td>\n",
       "      <td>299</td>\n",
       "      <td>299</td>\n",
       "      <td>299</td>\n",
       "      <td>299</td>\n",
       "    </tr>\n",
       "    <tr>\n",
       "      <th>193</th>\n",
       "      <td>295</td>\n",
       "      <td>295</td>\n",
       "      <td>295</td>\n",
       "      <td>295</td>\n",
       "      <td>295</td>\n",
       "    </tr>\n",
       "    <tr>\n",
       "      <th>8</th>\n",
       "      <td>236</td>\n",
       "      <td>236</td>\n",
       "      <td>236</td>\n",
       "      <td>236</td>\n",
       "      <td>236</td>\n",
       "    </tr>\n",
       "  </tbody>\n",
       "</table>\n",
       "</div>"
      ],
      "text/plain": [
       "           Unnamed: 0  car  image path  color  car_label\n",
       "car_label                                               \n",
       "111               591  591         591    591        591\n",
       "82                465  465         465    465        465\n",
       "21                438  438         438    438        438\n",
       "20                376  376         376    376        376\n",
       "66                349  349         349    349        349\n",
       "6                 332  332         332    332        332\n",
       "143               312  312         312    312        312\n",
       "145               299  299         299    299        299\n",
       "193               295  295         295    295        295\n",
       "8                 236  236         236    236        236"
      ]
     },
     "execution_count": 59,
     "metadata": {},
     "output_type": "execute_result"
    }
   ],
   "source": [
    "test_df.groupby(test_df['car_label']).count().sort_values(by='color', ascending=False).head(10)"
   ]
  },
  {
   "cell_type": "code",
   "execution_count": 60,
   "metadata": {
    "scrolled": true
   },
   "outputs": [
    {
     "data": {
      "text/html": [
       "<div>\n",
       "<style scoped>\n",
       "    .dataframe tbody tr th:only-of-type {\n",
       "        vertical-align: middle;\n",
       "    }\n",
       "\n",
       "    .dataframe tbody tr th {\n",
       "        vertical-align: top;\n",
       "    }\n",
       "\n",
       "    .dataframe thead th {\n",
       "        text-align: right;\n",
       "    }\n",
       "</style>\n",
       "<table border=\"1\" class=\"dataframe\">\n",
       "  <thead>\n",
       "    <tr style=\"text-align: right;\">\n",
       "      <th></th>\n",
       "      <th>image path</th>\n",
       "      <th>car_label</th>\n",
       "    </tr>\n",
       "  </thead>\n",
       "  <tbody>\n",
       "    <tr>\n",
       "      <th>6022</th>\n",
       "      <td>Data/car_data/car_data/test/Jeep Patriot SUV 2...</td>\n",
       "      <td>67</td>\n",
       "    </tr>\n",
       "    <tr>\n",
       "      <th>6460</th>\n",
       "      <td>Data/car_data/car_data/test/McLaren MP4-12C Co...</td>\n",
       "      <td>111</td>\n",
       "    </tr>\n",
       "    <tr>\n",
       "      <th>6133</th>\n",
       "      <td>Data/car_data/car_data/test/Lamborghini Aventa...</td>\n",
       "      <td>21</td>\n",
       "    </tr>\n",
       "    <tr>\n",
       "      <th>7622</th>\n",
       "      <td>Data/car_data/car_data/test/Toyota 4Runner SUV...</td>\n",
       "      <td>143</td>\n",
       "    </tr>\n",
       "    <tr>\n",
       "      <th>5727</th>\n",
       "      <td>Data/car_data/car_data/test/Hyundai Veracruz S...</td>\n",
       "      <td>145</td>\n",
       "    </tr>\n",
       "  </tbody>\n",
       "</table>\n",
       "</div>"
      ],
      "text/plain": [
       "                                             image path car_label\n",
       "6022  Data/car_data/car_data/test/Jeep Patriot SUV 2...        67\n",
       "6460  Data/car_data/car_data/test/McLaren MP4-12C Co...       111\n",
       "6133  Data/car_data/car_data/test/Lamborghini Aventa...        21\n",
       "7622  Data/car_data/car_data/test/Toyota 4Runner SUV...       143\n",
       "5727  Data/car_data/car_data/test/Hyundai Veracruz S...       145"
      ]
     },
     "execution_count": 60,
     "metadata": {},
     "output_type": "execute_result"
    }
   ],
   "source": [
    "test_img_df = test_df[['image path', 'car_label']].copy()\n",
    "test_img_df.sample(5)"
   ]
  },
  {
   "cell_type": "code",
   "execution_count": 61,
   "metadata": {},
   "outputs": [
    {
     "data": {
      "text/plain": [
       "(8041, 2)"
      ]
     },
     "execution_count": 61,
     "metadata": {},
     "output_type": "execute_result"
    }
   ],
   "source": [
    "test_img_df.shape"
   ]
  },
  {
   "cell_type": "markdown",
   "metadata": {},
   "source": [
    "#### Generators\n",
    "\n",
    "This will allow us to scale and reshape the data. Also split the training datset into training and validation datasets. \n",
    "\n",
    "Test dataset is kept isolated. "
   ]
  },
  {
   "cell_type": "markdown",
   "metadata": {},
   "source": [
    "https://machinelearningmastery.com/how-to-configure-image-data-augmentation-when-training-deep-learning-neural-networks/"
   ]
  },
  {
   "cell_type": "code",
   "execution_count": 62,
   "metadata": {},
   "outputs": [],
   "source": [
    "# ImageDataGenerator for training and validation\n",
    "datagen = ImageDataGenerator(rescale=1./255,       \n",
    "                             shear_range=0.2,\n",
    "                             zoom_range=0.3,\n",
    "                             horizontal_flip=True,\n",
    "                             brightness_range=[0.5,1.5],\n",
    "                             validation_split=0.25)"
   ]
  },
  {
   "cell_type": "code",
   "execution_count": 63,
   "metadata": {},
   "outputs": [
    {
     "name": "stdout",
     "output_type": "stream",
     "text": [
      "Found 6108 validated image filenames belonging to 200 classes.\n"
     ]
    }
   ],
   "source": [
    "train_generator = datagen.flow_from_dataframe(\n",
    "    dataframe = train_img_df,\n",
    "    directory = None,\n",
    "    x_col=\"image path\",\n",
    "    y_col=\"car_label\",\n",
    "    has_ext=True,                                     \n",
    "    subset=\"training\",\n",
    "    batch_size=32,\n",
    "    seed=42,\n",
    "    shuffle=True,\n",
    "    class_mode=\"categorical\",\n",
    "    target_size=(224,224), \n",
    "    color_mode='rgb'\n",
    ")"
   ]
  },
  {
   "cell_type": "code",
   "execution_count": 64,
   "metadata": {},
   "outputs": [
    {
     "name": "stdout",
     "output_type": "stream",
     "text": [
      "Found 2036 validated image filenames belonging to 200 classes.\n"
     ]
    }
   ],
   "source": [
    "valid_generator = datagen.flow_from_dataframe(\n",
    "    dataframe=train_img_df,\n",
    "    directory = None, \n",
    "    x_col=\"image path\",\n",
    "    y_col=\"car_label\",\n",
    "    has_ext=True,\n",
    "    subset=\"validation\",\n",
    "    batch_size=2,\n",
    "    seed=42,\n",
    "    shuffle=True,\n",
    "    class_mode=\"categorical\",\n",
    "    target_size=(224, 224), \n",
    "    color_mode='rgb'\n",
    ")"
   ]
  },
  {
   "cell_type": "code",
   "execution_count": 65,
   "metadata": {},
   "outputs": [],
   "source": [
    "# ImageDataGenerator for testing\n",
    "test_datagen=ImageDataGenerator(rescale=1./255)"
   ]
  },
  {
   "cell_type": "code",
   "execution_count": 66,
   "metadata": {},
   "outputs": [
    {
     "name": "stdout",
     "output_type": "stream",
     "text": [
      "Found 8041 validated image filenames.\n"
     ]
    }
   ],
   "source": [
    "test_generator = test_datagen.flow_from_dataframe(\n",
    "    dataframe=test_img_df,\n",
    "\n",
    "    directory = None,\n",
    "    x_col=\"image path\",\n",
    "    y_col=None, # None for testing\n",
    "#     has_ext=True,\n",
    "    batch_size=32,\n",
    "    seed=42,\n",
    "    shuffle=False, # yield images in order\n",
    "    class_mode=None, # return only the images\n",
    "    target_size=(224,224),\n",
    "    color_mode ='rgb'\n",
    ")"
   ]
  },
  {
   "cell_type": "code",
   "execution_count": 68,
   "metadata": {},
   "outputs": [],
   "source": [
    "# Defining epoch step sizes based on number of images divided by batch size\n",
    "step_train = train_generator.n//train_generator.batch_size\n",
    "step_valid = valid_generator.n//valid_generator.batch_size\n",
    "step_test = test_generator.n//test_generator.batch_size"
   ]
  },
  {
   "cell_type": "markdown",
   "metadata": {},
   "source": [
    "#### CNN Model"
   ]
  },
  {
   "cell_type": "markdown",
   "metadata": {},
   "source": [
    "https://github.com/beerboaa/Color-Classification-CNN\n",
    "https://arxiv.org/pdf/1510.07391.pdf"
   ]
  },
  {
   "cell_type": "code",
   "execution_count": 69,
   "metadata": {},
   "outputs": [],
   "source": [
    "def color_net(num_classes):\n",
    "    # placeholder for input image\n",
    "    input_image = Input(shape=(224,224,3))\n",
    "    # ============================================= TOP BRANCH ===================================================\n",
    "    # first top convolution layer\n",
    "    top_conv1 = Conv2D(filters=48,kernel_size=(11,11),strides=(4,4),\n",
    "                              input_shape=(224,224,3),activation='relu')(input_image)\n",
    "    top_conv1 = BatchNormalization()(top_conv1)\n",
    "    top_conv1 = MaxPooling2D(pool_size=(3,3),strides=(2,2))(top_conv1)\n",
    "\n",
    "    # second top convolution layer\n",
    "    # split feature map by half\n",
    "    top_top_conv2 = Lambda(lambda x : x[:,:,:,:24])(top_conv1)\n",
    "    top_bot_conv2 = Lambda(lambda x : x[:,:,:,24:])(top_conv1)\n",
    "\n",
    "    top_top_conv2 = Conv2D(filters=64,kernel_size=(3,3),strides=(1,1),activation='relu',padding='same')(top_top_conv2)\n",
    "    top_top_conv2 = BatchNormalization()(top_top_conv2)\n",
    "    top_top_conv2 = MaxPooling2D(pool_size=(3,3),strides=(2,2))(top_top_conv2)\n",
    "\n",
    "    top_bot_conv2 = Conv2D(filters=64,kernel_size=(3,3),strides=(1,1),activation='relu',padding='same')(top_bot_conv2)\n",
    "    top_bot_conv2 = BatchNormalization()(top_bot_conv2)\n",
    "    top_bot_conv2 = MaxPooling2D(pool_size=(3,3),strides=(2,2))(top_bot_conv2)\n",
    "\n",
    "    # third top convolution layer\n",
    "    # concat 2 feature map\n",
    "    top_conv3 = Concatenate()([top_top_conv2,top_bot_conv2])\n",
    "    top_conv3 = Conv2D(filters=192,kernel_size=(3,3),strides=(1,1),activation='relu',padding='same')(top_conv3)\n",
    "\n",
    "    # fourth top convolution layer\n",
    "    # split feature map by half\n",
    "    top_top_conv4 = Lambda(lambda x : x[:,:,:,:96])(top_conv3)\n",
    "    top_bot_conv4 = Lambda(lambda x : x[:,:,:,96:])(top_conv3)\n",
    "\n",
    "    top_top_conv4 = Conv2D(filters=96,kernel_size=(3,3),strides=(1,1),activation='relu',padding='same')(top_top_conv4)\n",
    "    top_bot_conv4 = Conv2D(filters=96,kernel_size=(3,3),strides=(1,1),activation='relu',padding='same')(top_bot_conv4)\n",
    "\n",
    "    # fifth top convolution layer\n",
    "    top_top_conv5 = Conv2D(filters=64,kernel_size=(3,3),strides=(1,1),activation='relu',padding='same')(top_top_conv4)\n",
    "    top_top_conv5 = MaxPooling2D(pool_size=(3,3),strides=(2,2))(top_top_conv5) \n",
    "\n",
    "    top_bot_conv5 = Conv2D(filters=64,kernel_size=(3,3),strides=(1,1),activation='relu',padding='same')(top_bot_conv4)\n",
    "    top_bot_conv5 = MaxPooling2D(pool_size=(3,3),strides=(2,2))(top_bot_conv5)\n",
    "\n",
    "    # ============================================= TOP BOTTOM ===================================================\n",
    "    # first bottom convolution layer\n",
    "    bottom_conv1 = Conv2D(filters=48,kernel_size=(11,11),strides=(4,4),\n",
    "                              input_shape=(227,227,3),activation='relu')(input_image)\n",
    "    bottom_conv1 = BatchNormalization()(bottom_conv1)\n",
    "    bottom_conv1 = MaxPooling2D(pool_size=(3,3),strides=(2,2))(bottom_conv1)\n",
    "\n",
    "    # second bottom convolution layer\n",
    "    # split feature map by half\n",
    "    bottom_top_conv2 = Lambda(lambda x : x[:,:,:,:24])(bottom_conv1)\n",
    "    bottom_bot_conv2 = Lambda(lambda x : x[:,:,:,24:])(bottom_conv1)\n",
    "\n",
    "    bottom_top_conv2 = Conv2D(filters=64,kernel_size=(3,3),strides=(1,1),activation='relu',padding='same')(bottom_top_conv2)\n",
    "    bottom_top_conv2 = BatchNormalization()(bottom_top_conv2)\n",
    "    bottom_top_conv2 = MaxPooling2D(pool_size=(3,3),strides=(2,2))(bottom_top_conv2)\n",
    "\n",
    "    bottom_bot_conv2 = Conv2D(filters=64,kernel_size=(3,3),strides=(1,1),activation='relu',padding='same')(bottom_bot_conv2)\n",
    "    bottom_bot_conv2 = BatchNormalization()(bottom_bot_conv2)\n",
    "    bottom_bot_conv2 = MaxPooling2D(pool_size=(3,3),strides=(2,2))(bottom_bot_conv2)\n",
    "\n",
    "    # third bottom convolution layer\n",
    "    # concat 2 feature map\n",
    "    bottom_conv3 = Concatenate()([bottom_top_conv2,bottom_bot_conv2])\n",
    "    bottom_conv3 = Conv2D(filters=192,kernel_size=(3,3),strides=(1,1),activation='relu',padding='same')(bottom_conv3)\n",
    "\n",
    "    # fourth bottom convolution layer\n",
    "    # split feature map by half\n",
    "    bottom_top_conv4 = Lambda(lambda x : x[:,:,:,:96])(bottom_conv3)\n",
    "    bottom_bot_conv4 = Lambda(lambda x : x[:,:,:,96:])(bottom_conv3)\n",
    "\n",
    "    bottom_top_conv4 = Conv2D(filters=96,kernel_size=(3,3),strides=(1,1),activation='relu',padding='same')(bottom_top_conv4)\n",
    "    bottom_bot_conv4 = Conv2D(filters=96,kernel_size=(3,3),strides=(1,1),activation='relu',padding='same')(bottom_bot_conv4)\n",
    "\n",
    "    # fifth bottom convolution layer\n",
    "    bottom_top_conv5 = Conv2D(filters=64,kernel_size=(3,3),strides=(1,1),activation='relu',padding='same')(bottom_top_conv4)\n",
    "    bottom_top_conv5 = MaxPooling2D(pool_size=(3,3),strides=(2,2))(bottom_top_conv5) \n",
    "\n",
    "    bottom_bot_conv5 = Conv2D(filters=64,kernel_size=(3,3),strides=(1,1),activation='relu',padding='same')(bottom_bot_conv4)\n",
    "    bottom_bot_conv5 = MaxPooling2D(pool_size=(3,3),strides=(2,2))(bottom_bot_conv5)\n",
    "\n",
    "    # ======================================== CONCATENATE TOP AND BOTTOM BRANCH =================================\n",
    "    conv_output = Concatenate()([top_top_conv5,top_bot_conv5,bottom_top_conv5,bottom_bot_conv5])\n",
    "\n",
    "    # Flatten\n",
    "    flatten = Flatten()(conv_output)\n",
    "\n",
    "    # Fully-connected layer\n",
    "    FC_1 = Dense(units=4096, activation='relu')(flatten)\n",
    "    FC_1 = Dropout(0.6)(FC_1)\n",
    "    FC_2 = Dense(units=4096, activation='relu')(FC_1)\n",
    "    FC_2 = Dropout(0.6)(FC_2)\n",
    "    output = Dense(units=num_classes, activation='softmax')(FC_2)\n",
    "    \n",
    "    model = Model(inputs=input_image,outputs=output)\n",
    "    sgd = SGD(lr=1e-3, decay=1e-6, momentum=0.9, nesterov=True)\n",
    "    # sgd = SGD(lr=0.01, momentum=0.9, decay=0.0005, nesterov=True)\n",
    "    model.compile(optimizer=sgd, loss='categorical_crossentropy', metrics=['accuracy'])\n",
    "    \n",
    "    return model"
   ]
  },
  {
   "cell_type": "code",
   "execution_count": 120,
   "metadata": {
    "scrolled": true
   },
   "outputs": [
    {
     "name": "stdout",
     "output_type": "stream",
     "text": [
      "WARNING:tensorflow:sample_weight modes were coerced from\n",
      "  ...\n",
      "    to  \n",
      "  ['...']\n",
      "WARNING:tensorflow:sample_weight modes were coerced from\n",
      "  ...\n",
      "    to  \n",
      "  ['...']\n",
      "Train for 190 steps, validate for 1018 steps\n",
      "Epoch 1/15\n",
      "189/190 [============================>.] - ETA: 0s - loss: 4.3673 - accuracy: 0.0548\n",
      "Epoch 00001: val_accuracy improved from -inf to 0.05059, saving model to color_weights.hdf5\n",
      "190/190 [==============================] - 135s 712ms/step - loss: 4.3675 - accuracy: 0.0548 - val_loss: 4.5338 - val_accuracy: 0.0506\n",
      "Epoch 2/15\n",
      "189/190 [============================>.] - ETA: 0s - loss: 4.0765 - accuracy: 0.0685\n",
      "Epoch 00002: val_accuracy improved from 0.05059 to 0.10707, saving model to color_weights.hdf5\n",
      "190/190 [==============================] - 131s 690ms/step - loss: 4.0751 - accuracy: 0.0690 - val_loss: 4.0219 - val_accuracy: 0.1071\n",
      "Epoch 3/15\n",
      "189/190 [============================>.] - ETA: 0s - loss: 3.9509 - accuracy: 0.0869\n",
      "Epoch 00003: val_accuracy improved from 0.10707 to 0.11837, saving model to color_weights.hdf5\n",
      "190/190 [==============================] - 133s 701ms/step - loss: 3.9516 - accuracy: 0.0869 - val_loss: 3.8612 - val_accuracy: 0.1184\n",
      "Epoch 4/15\n",
      "189/190 [============================>.] - ETA: 0s - loss: 3.8509 - accuracy: 0.1042\n",
      "Epoch 00004: val_accuracy did not improve from 0.11837\n",
      "190/190 [==============================] - 130s 684ms/step - loss: 3.8510 - accuracy: 0.1039 - val_loss: 3.7562 - val_accuracy: 0.1154\n",
      "Epoch 5/15\n",
      "189/190 [============================>.] - ETA: 0s - loss: 3.7782 - accuracy: 0.1042\n",
      "Epoch 00005: val_accuracy did not improve from 0.11837\n",
      "190/190 [==============================] - 135s 711ms/step - loss: 3.7780 - accuracy: 0.1040 - val_loss: 3.7920 - val_accuracy: 0.1110\n",
      "Epoch 6/15\n",
      "189/190 [============================>.] - ETA: 0s - loss: 3.6977 - accuracy: 0.1168\n",
      "Epoch 00006: val_accuracy improved from 0.11837 to 0.12328, saving model to color_weights.hdf5\n",
      "190/190 [==============================] - 129s 679ms/step - loss: 3.6966 - accuracy: 0.1172 - val_loss: 3.5743 - val_accuracy: 0.1233\n",
      "Epoch 7/15\n",
      "189/190 [============================>.] - ETA: 0s - loss: 3.6271 - accuracy: 0.1186\n",
      "Epoch 00007: val_accuracy did not improve from 0.12328\n",
      "190/190 [==============================] - 126s 662ms/step - loss: 3.6258 - accuracy: 0.1188 - val_loss: 3.5901 - val_accuracy: 0.1159\n",
      "Epoch 8/15\n",
      "189/190 [============================>.] - ETA: 0s - loss: 3.5512 - accuracy: 0.1289\n",
      "Epoch 00008: val_accuracy improved from 0.12328 to 0.13703, saving model to color_weights.hdf5\n",
      "190/190 [==============================] - 123s 649ms/step - loss: 3.5504 - accuracy: 0.1287 - val_loss: 3.4798 - val_accuracy: 0.1370\n",
      "Epoch 9/15\n",
      "189/190 [============================>.] - ETA: 0s - loss: 3.5054 - accuracy: 0.1357\n",
      "Epoch 00009: val_accuracy improved from 0.13703 to 0.15619, saving model to color_weights.hdf5\n",
      "190/190 [==============================] - 128s 671ms/step - loss: 3.5049 - accuracy: 0.1355 - val_loss: 3.4352 - val_accuracy: 0.1562\n",
      "Epoch 10/15\n",
      "189/190 [============================>.] - ETA: 0s - loss: 3.4366 - accuracy: 0.1436\n",
      "Epoch 00010: val_accuracy did not improve from 0.15619\n",
      "190/190 [==============================] - 125s 660ms/step - loss: 3.4356 - accuracy: 0.1438 - val_loss: 3.3989 - val_accuracy: 0.1513\n",
      "Epoch 11/15\n",
      "189/190 [============================>.] - ETA: 0s - loss: 3.4110 - accuracy: 0.1449\n",
      "Epoch 00011: val_accuracy did not improve from 0.15619\n",
      "190/190 [==============================] - 126s 662ms/step - loss: 3.4095 - accuracy: 0.1453 - val_loss: 3.5061 - val_accuracy: 0.1213\n",
      "Epoch 12/15\n",
      "189/190 [============================>.] - ETA: 0s - loss: 3.3679 - accuracy: 0.1525\n",
      "Epoch 00012: val_accuracy did not improve from 0.15619\n",
      "190/190 [==============================] - 130s 682ms/step - loss: 3.3669 - accuracy: 0.1529 - val_loss: 3.3753 - val_accuracy: 0.1478\n",
      "Epoch 13/15\n",
      "189/190 [============================>.] - ETA: 0s - loss: 3.3455 - accuracy: 0.1436\n",
      "Epoch 00013: val_accuracy did not improve from 0.15619\n",
      "190/190 [==============================] - 124s 652ms/step - loss: 3.3458 - accuracy: 0.1432 - val_loss: 3.2973 - val_accuracy: 0.1478\n",
      "Epoch 14/15\n",
      "189/190 [============================>.] - ETA: 0s - loss: 3.2716 - accuracy: 0.1578\n",
      "Epoch 00014: val_accuracy did not improve from 0.15619\n",
      "190/190 [==============================] - 122s 642ms/step - loss: 3.2727 - accuracy: 0.1578 - val_loss: 3.5203 - val_accuracy: 0.1272\n",
      "Epoch 15/15\n",
      "189/190 [============================>.] - ETA: 0s - loss: 3.2635 - accuracy: 0.1592\n",
      "Epoch 00015: val_accuracy improved from 0.15619 to 0.16503, saving model to color_weights.hdf5\n",
      "190/190 [==============================] - 125s 656ms/step - loss: 3.2655 - accuracy: 0.1588 - val_loss: 3.3616 - val_accuracy: 0.1650\n",
      "INFO:tensorflow:Assets written to: color_model\\assets\n"
     ]
    }
   ],
   "source": [
    "num_classes = 200\n",
    "nb_epoch = 15\n",
    "\n",
    "# initialise model\n",
    "model = color_net(num_classes)\n",
    "\n",
    "filepath = 'color_weights.hdf5'\n",
    "checkpoint = ModelCheckpoint(filepath, \n",
    "                             monitor='val_accuracy', \n",
    "                             verbose=1, \n",
    "                             save_best_only=True, \n",
    "                             mode='max')\n",
    "callbacks_list = [checkpoint]\n",
    "\n",
    "history = model.fit(\n",
    "                    train_generator,\n",
    "                    steps_per_epoch=step_train,\n",
    "                    epochs=nb_epoch,\n",
    "                    validation_data=valid_generator,\n",
    "                    validation_steps=step_valid,\n",
    "                    callbacks=callbacks_list,\n",
    "                    verbose=1)\n",
    "\n",
    "model.save('color_model')"
   ]
  },
  {
   "cell_type": "markdown",
   "metadata": {},
   "source": [
    "#### Evaluation"
   ]
  },
  {
   "cell_type": "code",
   "execution_count": 121,
   "metadata": {},
   "outputs": [
    {
     "name": "stdout",
     "output_type": "stream",
     "text": [
      "WARNING:tensorflow:sample_weight modes were coerced from\n",
      "  ...\n",
      "    to  \n",
      "  ['...']\n",
      "251/251 [==============================] - 7s 30ms/step - loss: 3.3654 - accuracy: 0.1594\n"
     ]
    },
    {
     "data": {
      "text/plain": [
       "[3.365352573147808, 0.15936255]"
      ]
     },
     "execution_count": 121,
     "metadata": {},
     "output_type": "execute_result"
    }
   ],
   "source": [
    "# Evaluate model\n",
    "model.evaluate(\n",
    "    valid_generator, \n",
    "    steps=STEP_SIZE_TEST, \n",
    "    verbose=1)"
   ]
  },
  {
   "cell_type": "code",
   "execution_count": 122,
   "metadata": {
    "scrolled": true
   },
   "outputs": [
    {
     "name": "stdout",
     "output_type": "stream",
     "text": [
      "Model: \"model_6\"\n",
      "__________________________________________________________________________________________________\n",
      "Layer (type)                    Output Shape         Param #     Connected to                     \n",
      "==================================================================================================\n",
      "input_7 (InputLayer)            [(None, 224, 224, 3) 0                                            \n",
      "__________________________________________________________________________________________________\n",
      "conv2d_96 (Conv2D)              (None, 54, 54, 48)   17472       input_7[0][0]                    \n",
      "__________________________________________________________________________________________________\n",
      "conv2d_104 (Conv2D)             (None, 54, 54, 48)   17472       input_7[0][0]                    \n",
      "__________________________________________________________________________________________________\n",
      "batch_normalization_36 (BatchNo (None, 54, 54, 48)   192         conv2d_96[0][0]                  \n",
      "__________________________________________________________________________________________________\n",
      "batch_normalization_39 (BatchNo (None, 54, 54, 48)   192         conv2d_104[0][0]                 \n",
      "__________________________________________________________________________________________________\n",
      "max_pooling2d_60 (MaxPooling2D) (None, 26, 26, 48)   0           batch_normalization_36[0][0]     \n",
      "__________________________________________________________________________________________________\n",
      "max_pooling2d_65 (MaxPooling2D) (None, 26, 26, 48)   0           batch_normalization_39[0][0]     \n",
      "__________________________________________________________________________________________________\n",
      "lambda_48 (Lambda)              (None, 26, 26, 24)   0           max_pooling2d_60[0][0]           \n",
      "__________________________________________________________________________________________________\n",
      "lambda_49 (Lambda)              (None, 26, 26, 24)   0           max_pooling2d_60[0][0]           \n",
      "__________________________________________________________________________________________________\n",
      "lambda_52 (Lambda)              (None, 26, 26, 24)   0           max_pooling2d_65[0][0]           \n",
      "__________________________________________________________________________________________________\n",
      "lambda_53 (Lambda)              (None, 26, 26, 24)   0           max_pooling2d_65[0][0]           \n",
      "__________________________________________________________________________________________________\n",
      "conv2d_97 (Conv2D)              (None, 26, 26, 64)   13888       lambda_48[0][0]                  \n",
      "__________________________________________________________________________________________________\n",
      "conv2d_98 (Conv2D)              (None, 26, 26, 64)   13888       lambda_49[0][0]                  \n",
      "__________________________________________________________________________________________________\n",
      "conv2d_105 (Conv2D)             (None, 26, 26, 64)   13888       lambda_52[0][0]                  \n",
      "__________________________________________________________________________________________________\n",
      "conv2d_106 (Conv2D)             (None, 26, 26, 64)   13888       lambda_53[0][0]                  \n",
      "__________________________________________________________________________________________________\n",
      "batch_normalization_37 (BatchNo (None, 26, 26, 64)   256         conv2d_97[0][0]                  \n",
      "__________________________________________________________________________________________________\n",
      "batch_normalization_38 (BatchNo (None, 26, 26, 64)   256         conv2d_98[0][0]                  \n",
      "__________________________________________________________________________________________________\n",
      "batch_normalization_40 (BatchNo (None, 26, 26, 64)   256         conv2d_105[0][0]                 \n",
      "__________________________________________________________________________________________________\n",
      "batch_normalization_41 (BatchNo (None, 26, 26, 64)   256         conv2d_106[0][0]                 \n",
      "__________________________________________________________________________________________________\n",
      "max_pooling2d_61 (MaxPooling2D) (None, 12, 12, 64)   0           batch_normalization_37[0][0]     \n",
      "__________________________________________________________________________________________________\n",
      "max_pooling2d_62 (MaxPooling2D) (None, 12, 12, 64)   0           batch_normalization_38[0][0]     \n",
      "__________________________________________________________________________________________________\n",
      "max_pooling2d_66 (MaxPooling2D) (None, 12, 12, 64)   0           batch_normalization_40[0][0]     \n",
      "__________________________________________________________________________________________________\n",
      "max_pooling2d_67 (MaxPooling2D) (None, 12, 12, 64)   0           batch_normalization_41[0][0]     \n",
      "__________________________________________________________________________________________________\n",
      "concatenate_18 (Concatenate)    (None, 12, 12, 128)  0           max_pooling2d_61[0][0]           \n",
      "                                                                 max_pooling2d_62[0][0]           \n",
      "__________________________________________________________________________________________________\n",
      "concatenate_19 (Concatenate)    (None, 12, 12, 128)  0           max_pooling2d_66[0][0]           \n",
      "                                                                 max_pooling2d_67[0][0]           \n",
      "__________________________________________________________________________________________________\n",
      "conv2d_99 (Conv2D)              (None, 12, 12, 192)  221376      concatenate_18[0][0]             \n",
      "__________________________________________________________________________________________________\n",
      "conv2d_107 (Conv2D)             (None, 12, 12, 192)  221376      concatenate_19[0][0]             \n",
      "__________________________________________________________________________________________________\n",
      "lambda_50 (Lambda)              (None, 12, 12, 96)   0           conv2d_99[0][0]                  \n",
      "__________________________________________________________________________________________________\n",
      "lambda_51 (Lambda)              (None, 12, 12, 96)   0           conv2d_99[0][0]                  \n",
      "__________________________________________________________________________________________________\n",
      "lambda_54 (Lambda)              (None, 12, 12, 96)   0           conv2d_107[0][0]                 \n",
      "__________________________________________________________________________________________________\n",
      "lambda_55 (Lambda)              (None, 12, 12, 96)   0           conv2d_107[0][0]                 \n",
      "__________________________________________________________________________________________________\n",
      "conv2d_100 (Conv2D)             (None, 12, 12, 96)   83040       lambda_50[0][0]                  \n",
      "__________________________________________________________________________________________________\n",
      "conv2d_101 (Conv2D)             (None, 12, 12, 96)   83040       lambda_51[0][0]                  \n",
      "__________________________________________________________________________________________________\n",
      "conv2d_108 (Conv2D)             (None, 12, 12, 96)   83040       lambda_54[0][0]                  \n",
      "__________________________________________________________________________________________________\n",
      "conv2d_109 (Conv2D)             (None, 12, 12, 96)   83040       lambda_55[0][0]                  \n",
      "__________________________________________________________________________________________________\n",
      "conv2d_102 (Conv2D)             (None, 12, 12, 64)   55360       conv2d_100[0][0]                 \n",
      "__________________________________________________________________________________________________\n",
      "conv2d_103 (Conv2D)             (None, 12, 12, 64)   55360       conv2d_101[0][0]                 \n",
      "__________________________________________________________________________________________________\n",
      "conv2d_110 (Conv2D)             (None, 12, 12, 64)   55360       conv2d_108[0][0]                 \n",
      "__________________________________________________________________________________________________\n",
      "conv2d_111 (Conv2D)             (None, 12, 12, 64)   55360       conv2d_109[0][0]                 \n",
      "__________________________________________________________________________________________________\n",
      "max_pooling2d_63 (MaxPooling2D) (None, 5, 5, 64)     0           conv2d_102[0][0]                 \n",
      "__________________________________________________________________________________________________\n",
      "max_pooling2d_64 (MaxPooling2D) (None, 5, 5, 64)     0           conv2d_103[0][0]                 \n",
      "__________________________________________________________________________________________________\n",
      "max_pooling2d_68 (MaxPooling2D) (None, 5, 5, 64)     0           conv2d_110[0][0]                 \n",
      "__________________________________________________________________________________________________\n",
      "max_pooling2d_69 (MaxPooling2D) (None, 5, 5, 64)     0           conv2d_111[0][0]                 \n",
      "__________________________________________________________________________________________________\n",
      "concatenate_20 (Concatenate)    (None, 5, 5, 256)    0           max_pooling2d_63[0][0]           \n",
      "                                                                 max_pooling2d_64[0][0]           \n",
      "                                                                 max_pooling2d_68[0][0]           \n",
      "                                                                 max_pooling2d_69[0][0]           \n",
      "__________________________________________________________________________________________________\n",
      "flatten_6 (Flatten)             (None, 6400)         0           concatenate_20[0][0]             \n",
      "__________________________________________________________________________________________________\n",
      "dense_18 (Dense)                (None, 4096)         26218496    flatten_6[0][0]                  \n",
      "__________________________________________________________________________________________________\n",
      "dropout_12 (Dropout)            (None, 4096)         0           dense_18[0][0]                   \n",
      "__________________________________________________________________________________________________\n",
      "dense_19 (Dense)                (None, 4096)         16781312    dropout_12[0][0]                 \n",
      "__________________________________________________________________________________________________\n",
      "dropout_13 (Dropout)            (None, 4096)         0           dense_19[0][0]                   \n",
      "__________________________________________________________________________________________________\n",
      "dense_20 (Dense)                (None, 200)          819400      dropout_13[0][0]                 \n",
      "==================================================================================================\n",
      "Total params: 44,907,464\n",
      "Trainable params: 44,906,760\n",
      "Non-trainable params: 704\n",
      "__________________________________________________________________________________________________\n"
     ]
    }
   ],
   "source": [
    "# Model Summary\n",
    "model.summary()"
   ]
  },
  {
   "cell_type": "code",
   "execution_count": 123,
   "metadata": {
    "scrolled": false
   },
   "outputs": [
    {
     "data": {
      "image/png": "[encoded data removed]",
      "text/plain": [
       "<Figure size 864x576 with 1 Axes>"
      ]
     },
     "metadata": {
      "needs_background": "light"
     },
     "output_type": "display_data"
    }
   ],
   "source": [
    "# Check out our train loss and test loss over epochs.\n",
    "train_loss = history.history['loss']\n",
    "test_loss = history.history['val_loss']\n",
    "\n",
    "# Set figure size.\n",
    "plt.figure(figsize=(12, 8))\n",
    "\n",
    "# Generate line plot of training, testing loss over epochs.\n",
    "plt.plot(train_loss, label='Training Loss', color='#185fad')\n",
    "plt.plot(test_loss, label='Testing Loss', color='orange')\n",
    "\n",
    "# Set title\n",
    "plt.title('Training and Testing Loss by Epoch(100)', fontsize = 25)\n",
    "plt.xlabel('Epoch', fontsize = 18)\n",
    "plt.ylabel('Categorical Crossentropy', fontsize = 18)\n",
    "# plt.xticks(len(100), lables=10)\n",
    "\n",
    "plt.legend(fontsize = 18);"
   ]
  },
  {
   "cell_type": "markdown",
   "metadata": {},
   "source": [
    "#### Predictions"
   ]
  },
  {
   "cell_type": "code",
   "execution_count": 124,
   "metadata": {},
   "outputs": [
    {
     "name": "stdout",
     "output_type": "stream",
     "text": [
      "252/252 [==============================] - 55s 217ms/step\n"
     ]
    }
   ],
   "source": [
    "# Predict\n",
    "test_generator.reset()\n",
    "pred=model.predict(test_generator,verbose=1)"
   ]
  },
  {
   "cell_type": "code",
   "execution_count": 125,
   "metadata": {},
   "outputs": [
    {
     "name": "stdout",
     "output_type": "stream",
     "text": [
      "[173   7   7 ...  21  21 178]\n"
     ]
    }
   ],
   "source": [
    "predicted_class_indices=np.argmax(pred,axis=1)\n",
    "print(predicted_class_indices)"
   ]
  },
  {
   "cell_type": "code",
   "execution_count": 126,
   "metadata": {},
   "outputs": [],
   "source": [
    "labels = (train_generator.class_indices)\n",
    "labels = dict((v,k) for k,v in labels.items())\n",
    "predictions = [labels[k] for k in predicted_class_indices]"
   ]
  },
  {
   "cell_type": "code",
   "execution_count": 127,
   "metadata": {},
   "outputs": [],
   "source": [
    "filenames=test_generator.filenames\n",
    "results=pd.DataFrame({\"Filename\":filenames,\n",
    "                      \"Predictions\":predictions})\n",
    "results.to_csv(\"results\",index=False)"
   ]
  },
  {
   "cell_type": "code",
   "execution_count": 128,
   "metadata": {},
   "outputs": [
    {
     "data": {
      "text/html": [
       "<div>\n",
       "<style scoped>\n",
       "    .dataframe tbody tr th:only-of-type {\n",
       "        vertical-align: middle;\n",
       "    }\n",
       "\n",
       "    .dataframe tbody tr th {\n",
       "        vertical-align: top;\n",
       "    }\n",
       "\n",
       "    .dataframe thead th {\n",
       "        text-align: right;\n",
       "    }\n",
       "</style>\n",
       "<table border=\"1\" class=\"dataframe\">\n",
       "  <thead>\n",
       "    <tr style=\"text-align: right;\">\n",
       "      <th></th>\n",
       "      <th>Filename</th>\n",
       "      <th>Predictions</th>\n",
       "    </tr>\n",
       "  </thead>\n",
       "  <tbody>\n",
       "    <tr>\n",
       "      <th>0</th>\n",
       "      <td>Data/car_data/car_data/test/Acura Integra Type...</td>\n",
       "      <td>75</td>\n",
       "    </tr>\n",
       "    <tr>\n",
       "      <th>1</th>\n",
       "      <td>Data/car_data/car_data/test/Acura Integra Type...</td>\n",
       "      <td>104</td>\n",
       "    </tr>\n",
       "    <tr>\n",
       "      <th>2</th>\n",
       "      <td>Data/car_data/car_data/test/Acura Integra Type...</td>\n",
       "      <td>104</td>\n",
       "    </tr>\n",
       "    <tr>\n",
       "      <th>3</th>\n",
       "      <td>Data/car_data/car_data/test/Acura Integra Type...</td>\n",
       "      <td>48</td>\n",
       "    </tr>\n",
       "    <tr>\n",
       "      <th>4</th>\n",
       "      <td>Data/car_data/car_data/test/Acura Integra Type...</td>\n",
       "      <td>104</td>\n",
       "    </tr>\n",
       "    <tr>\n",
       "      <th>...</th>\n",
       "      <td>...</td>\n",
       "      <td>...</td>\n",
       "    </tr>\n",
       "    <tr>\n",
       "      <th>8036</th>\n",
       "      <td>Data/car_data/car_data/test/Volvo XC90 SUV 200...</td>\n",
       "      <td>113</td>\n",
       "    </tr>\n",
       "    <tr>\n",
       "      <th>8037</th>\n",
       "      <td>Data/car_data/car_data/test/Volvo XC90 SUV 200...</td>\n",
       "      <td>133</td>\n",
       "    </tr>\n",
       "    <tr>\n",
       "      <th>8038</th>\n",
       "      <td>Data/car_data/car_data/test/Volvo XC90 SUV 200...</td>\n",
       "      <td>117</td>\n",
       "    </tr>\n",
       "    <tr>\n",
       "      <th>8039</th>\n",
       "      <td>Data/car_data/car_data/test/Volvo XC90 SUV 200...</td>\n",
       "      <td>117</td>\n",
       "    </tr>\n",
       "    <tr>\n",
       "      <th>8040</th>\n",
       "      <td>Data/car_data/car_data/test/Volvo XC90 SUV 200...</td>\n",
       "      <td>8</td>\n",
       "    </tr>\n",
       "  </tbody>\n",
       "</table>\n",
       "<p>8041 rows × 2 columns</p>\n",
       "</div>"
      ],
      "text/plain": [
       "                                               Filename  Predictions\n",
       "0     Data/car_data/car_data/test/Acura Integra Type...           75\n",
       "1     Data/car_data/car_data/test/Acura Integra Type...          104\n",
       "2     Data/car_data/car_data/test/Acura Integra Type...          104\n",
       "3     Data/car_data/car_data/test/Acura Integra Type...           48\n",
       "4     Data/car_data/car_data/test/Acura Integra Type...          104\n",
       "...                                                 ...          ...\n",
       "8036  Data/car_data/car_data/test/Volvo XC90 SUV 200...          113\n",
       "8037  Data/car_data/car_data/test/Volvo XC90 SUV 200...          133\n",
       "8038  Data/car_data/car_data/test/Volvo XC90 SUV 200...          117\n",
       "8039  Data/car_data/car_data/test/Volvo XC90 SUV 200...          117\n",
       "8040  Data/car_data/car_data/test/Volvo XC90 SUV 200...            8\n",
       "\n",
       "[8041 rows x 2 columns]"
      ]
     },
     "execution_count": 128,
     "metadata": {},
     "output_type": "execute_result"
    }
   ],
   "source": [
    "results = pd.read_csv('results')\n",
    "\n",
    "results"
   ]
  },
  {
   "cell_type": "code",
   "execution_count": 129,
   "metadata": {},
   "outputs": [],
   "source": [
    "results2 = results.copy()\n",
    "results2 = results2.join(test_df)"
   ]
  },
  {
   "cell_type": "code",
   "execution_count": 130,
   "metadata": {},
   "outputs": [],
   "source": [
    "mylist = ['Unnamed: 0', 'Filename', 'image path']"
   ]
  },
  {
   "cell_type": "code",
   "execution_count": 131,
   "metadata": {},
   "outputs": [],
   "source": [
    "results2.drop(columns = results2[mylist], inplace=True)"
   ]
  },
  {
   "cell_type": "code",
   "execution_count": 132,
   "metadata": {},
   "outputs": [],
   "source": [
    "mycolumns = ['car', 'color', 'car_label', 'Predictions']"
   ]
  },
  {
   "cell_type": "code",
   "execution_count": 133,
   "metadata": {},
   "outputs": [
    {
     "data": {
      "text/html": [
       "<div>\n",
       "<style scoped>\n",
       "    .dataframe tbody tr th:only-of-type {\n",
       "        vertical-align: middle;\n",
       "    }\n",
       "\n",
       "    .dataframe tbody tr th {\n",
       "        vertical-align: top;\n",
       "    }\n",
       "\n",
       "    .dataframe thead th {\n",
       "        text-align: right;\n",
       "    }\n",
       "</style>\n",
       "<table border=\"1\" class=\"dataframe\">\n",
       "  <thead>\n",
       "    <tr style=\"text-align: right;\">\n",
       "      <th></th>\n",
       "      <th>Predictions</th>\n",
       "      <th>car</th>\n",
       "      <th>color</th>\n",
       "      <th>car_label</th>\n",
       "    </tr>\n",
       "  </thead>\n",
       "  <tbody>\n",
       "    <tr>\n",
       "      <th>2395</th>\n",
       "      <td>113</td>\n",
       "      <td>Chevrolet Express Cargo Van 2007</td>\n",
       "      <td>dark_jungle_green</td>\n",
       "      <td>66</td>\n",
       "    </tr>\n",
       "    <tr>\n",
       "      <th>3339</th>\n",
       "      <td>144</td>\n",
       "      <td>Dodge Caliber Wagon 2007</td>\n",
       "      <td>khaki_html_css_khaki</td>\n",
       "      <td>112</td>\n",
       "    </tr>\n",
       "    <tr>\n",
       "      <th>1492</th>\n",
       "      <td>75</td>\n",
       "      <td>BMW M3 Coupe 2012</td>\n",
       "      <td>dim_gray</td>\n",
       "      <td>82</td>\n",
       "    </tr>\n",
       "    <tr>\n",
       "      <th>459</th>\n",
       "      <td>8</td>\n",
       "      <td>Audi 100 Sedan 1994</td>\n",
       "      <td>outer_space</td>\n",
       "      <td>145</td>\n",
       "    </tr>\n",
       "    <tr>\n",
       "      <th>4546</th>\n",
       "      <td>104</td>\n",
       "      <td>Ford Fiesta Sedan 2012</td>\n",
       "      <td>black_leather_jacket</td>\n",
       "      <td>20</td>\n",
       "    </tr>\n",
       "    <tr>\n",
       "      <th>2241</th>\n",
       "      <td>144</td>\n",
       "      <td>Chevrolet Cobalt SS 2010</td>\n",
       "      <td>redwood</td>\n",
       "      <td>171</td>\n",
       "    </tr>\n",
       "    <tr>\n",
       "      <th>4132</th>\n",
       "      <td>18</td>\n",
       "      <td>Ferrari FF Coupe 2012</td>\n",
       "      <td>terra_cotta</td>\n",
       "      <td>196</td>\n",
       "    </tr>\n",
       "    <tr>\n",
       "      <th>5667</th>\n",
       "      <td>111</td>\n",
       "      <td>Hyundai Veloster Hatchback 2012</td>\n",
       "      <td>earth_yellow</td>\n",
       "      <td>84</td>\n",
       "    </tr>\n",
       "    <tr>\n",
       "      <th>1508</th>\n",
       "      <td>8</td>\n",
       "      <td>BMW M3 Coupe 2012</td>\n",
       "      <td>black_olive</td>\n",
       "      <td>21</td>\n",
       "    </tr>\n",
       "    <tr>\n",
       "      <th>5559</th>\n",
       "      <td>104</td>\n",
       "      <td>Hyundai Sonata Hybrid Sedan 2012</td>\n",
       "      <td>deep_coffee</td>\n",
       "      <td>78</td>\n",
       "    </tr>\n",
       "  </tbody>\n",
       "</table>\n",
       "</div>"
      ],
      "text/plain": [
       "      Predictions                               car                 color  \\\n",
       "2395          113  Chevrolet Express Cargo Van 2007     dark_jungle_green   \n",
       "3339          144          Dodge Caliber Wagon 2007  khaki_html_css_khaki   \n",
       "1492           75                 BMW M3 Coupe 2012              dim_gray   \n",
       "459             8               Audi 100 Sedan 1994           outer_space   \n",
       "4546          104            Ford Fiesta Sedan 2012  black_leather_jacket   \n",
       "2241          144          Chevrolet Cobalt SS 2010               redwood   \n",
       "4132           18             Ferrari FF Coupe 2012           terra_cotta   \n",
       "5667          111   Hyundai Veloster Hatchback 2012          earth_yellow   \n",
       "1508            8                 BMW M3 Coupe 2012           black_olive   \n",
       "5559          104  Hyundai Sonata Hybrid Sedan 2012           deep_coffee   \n",
       "\n",
       "     car_label  \n",
       "2395        66  \n",
       "3339       112  \n",
       "1492        82  \n",
       "459        145  \n",
       "4546        20  \n",
       "2241       171  \n",
       "4132       196  \n",
       "5667        84  \n",
       "1508        21  \n",
       "5559        78  "
      ]
     },
     "execution_count": 133,
     "metadata": {},
     "output_type": "execute_result"
    }
   ],
   "source": [
    "results2.sample(10)"
   ]
  },
  {
   "cell_type": "code",
   "execution_count": 134,
   "metadata": {},
   "outputs": [
    {
     "data": {
      "text/html": [
       "<div>\n",
       "<style scoped>\n",
       "    .dataframe tbody tr th:only-of-type {\n",
       "        vertical-align: middle;\n",
       "    }\n",
       "\n",
       "    .dataframe tbody tr th {\n",
       "        vertical-align: top;\n",
       "    }\n",
       "\n",
       "    .dataframe thead th {\n",
       "        text-align: right;\n",
       "    }\n",
       "</style>\n",
       "<table border=\"1\" class=\"dataframe\">\n",
       "  <thead>\n",
       "    <tr style=\"text-align: right;\">\n",
       "      <th></th>\n",
       "      <th>Predictions</th>\n",
       "      <th>car</th>\n",
       "      <th>color</th>\n",
       "      <th>car_label</th>\n",
       "    </tr>\n",
       "  </thead>\n",
       "  <tbody>\n",
       "  </tbody>\n",
       "</table>\n",
       "</div>"
      ],
      "text/plain": [
       "Empty DataFrame\n",
       "Columns: [Predictions, car, color, car_label]\n",
       "Index: []"
      ]
     },
     "execution_count": 134,
     "metadata": {},
     "output_type": "execute_result"
    }
   ],
   "source": [
    "results2.loc[results2['Predictions'] == results2.car_label, :]"
   ]
  },
  {
   "cell_type": "code",
   "execution_count": null,
   "metadata": {},
   "outputs": [],
   "source": []
  }
 ],
 "metadata": {
  "kernelspec": {
   "display_name": "Python 3",
   "language": "python",
   "name": "python3"
  },
  "language_info": {
   "codemirror_mode": {
    "name": "ipython",
    "version": 3
   },
   "file_extension": ".py",
   "mimetype": "text/x-python",
   "name": "python",
   "nbconvert_exporter": "python",
   "pygments_lexer": "ipython3",
   "version": "3.7.7"
  }
 },
 "nbformat": 4,
 "nbformat_minor": 4
}
