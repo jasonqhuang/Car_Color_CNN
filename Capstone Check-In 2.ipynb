{
 "cells": [
  {
   "cell_type": "markdown",
   "metadata": {},
   "source": [
    "# Capstone Check In 2\n",
    "By: Jason Huang"
   ]
  },
  {
   "cell_type": "markdown",
   "metadata": {},
   "source": [
    "### Idea Chosen:\n",
    "\n",
    "#### *Car paint color detection via rgb and hex values.*"
   ]
  },
  {
   "cell_type": "markdown",
   "metadata": {},
   "source": [
    "**Data Sources:**\n",
    "\n",
    "Sherwin Williams colors dataset with RGB\n",
    "\n",
    "https://images.sherwin-williams.com/content_images/sw-pdf-sherwin-williams-color.pdf\n",
    "\n",
    "Color Names dataset with RGB and hex\n",
    "\n",
    "https://github.com/codebrainz/color-names/blob/master/output/colors.csv\n",
    "\n",
    "Guide to start-up openCV for color detection\n",
    "\n",
    "https://www.pyimagesearch.com/2014/08/04/opencv-python-color-detection/#:~:text=To%20detect%20colors%20in%20images,limits%20for%20your%20pixel%20values.&text=cv2.,specified%20upper%20and%20lower%20range.&text=cv2.,-function.\n",
    "\n",
    "Car Color Database\n",
    "\n",
    "https://paintref.com/cgi-bin/colorcodedisplay.cgi?make=Audi"
   ]
  },
  {
   "cell_type": "markdown",
   "metadata": {},
   "source": [
    "**Problem Statement:**\n",
    "\n",
    "I will create a model that can recognize colors and match them with RGB / hex values. I will utilize openCV package as a rgb color detector and try to determine the car's paint color name.\n",
    "\n",
    "train on sherwin williams and test on color detected car colors. Validated on audi\n",
    "test on any other car company. "
   ]
  },
  {
   "cell_type": "markdown",
   "metadata": {},
   "source": [
    "**Potential Pitfalls/Hurdles/Problems:**\n",
    "\n",
    "Sources indicate car paint is incredibly difficult to replicate/identify. This is due to the fabrication of the paint pigments as well as the affect of UV degredation. Also the different manufactuer's don't utilize the same color code identifying scheme (different paint code formats)."
   ]
  },
  {
   "cell_type": "markdown",
   "metadata": {},
   "source": [
    "## Startup Code"
   ]
  },
  {
   "cell_type": "code",
   "execution_count": 2,
   "metadata": {
    "scrolled": true
   },
   "outputs": [
    {
     "name": "stdout",
     "output_type": "stream",
     "text": [
      "Collecting opencv-pythonNote: you may need to restart the kernel to use updated packages.\n",
      "  Downloading opencv_python-4.2.0.34-cp37-cp37m-win_amd64.whl (33.0 MB)\n",
      "Requirement already satisfied: numpy>=1.14.5 in c:\\users\\jason\\anaconda3\\lib\\site-packages (from opencv-python) (1.18.4)\n",
      "Installing collected packages: opencv-python\n",
      "Successfully installed opencv-python-4.2.0.34\n",
      "\n"
     ]
    }
   ],
   "source": [
    "# pip install opencv-python"
   ]
  },
  {
   "cell_type": "code",
   "execution_count": 1,
   "metadata": {},
   "outputs": [
    {
     "ename": "ModuleNotFoundError",
     "evalue": "No module named 'cv2'",
     "output_type": "error",
     "traceback": [
      "\u001b[1;31m---------------------------------------------------------------------------\u001b[0m",
      "\u001b[1;31mModuleNotFoundError\u001b[0m                       Traceback (most recent call last)",
      "\u001b[1;32m<ipython-input-1-853d874520df>\u001b[0m in \u001b[0;36m<module>\u001b[1;34m\u001b[0m\n\u001b[0;32m      2\u001b[0m \u001b[1;32mimport\u001b[0m \u001b[0mnumpy\u001b[0m \u001b[1;32mas\u001b[0m \u001b[0mnp\u001b[0m\u001b[1;33m\u001b[0m\u001b[1;33m\u001b[0m\u001b[0m\n\u001b[0;32m      3\u001b[0m \u001b[1;32mimport\u001b[0m \u001b[0margparse\u001b[0m\u001b[1;33m\u001b[0m\u001b[1;33m\u001b[0m\u001b[0m\n\u001b[1;32m----> 4\u001b[1;33m \u001b[1;32mimport\u001b[0m \u001b[0mcv2\u001b[0m\u001b[1;33m\u001b[0m\u001b[1;33m\u001b[0m\u001b[0m\n\u001b[0m",
      "\u001b[1;31mModuleNotFoundError\u001b[0m: No module named 'cv2'"
     ]
    }
   ],
   "source": [
    "# As per startup guide by Adrian rosebrock\n",
    "import numpy as np\n",
    "import argparse\n",
    "import cv2"
   ]
  },
  {
   "cell_type": "code",
   "execution_count": null,
   "metadata": {},
   "outputs": [],
   "source": []
  }
 ],
 "metadata": {
  "kernelspec": {
   "display_name": "Python 3",
   "language": "python",
   "name": "python3"
  },
  "language_info": {
   "codemirror_mode": {
    "name": "ipython",
    "version": 3
   },
   "file_extension": ".py",
   "mimetype": "text/x-python",
   "name": "python",
   "nbconvert_exporter": "python",
   "pygments_lexer": "ipython3",
   "version": "3.7.7"
  }
 },
 "nbformat": 4,
 "nbformat_minor": 4
}
